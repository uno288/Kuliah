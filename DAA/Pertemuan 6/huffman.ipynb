{
 "cells": [
  {
   "cell_type": "code",
   "execution_count": 12,
   "source": [
    "string = 'BCAADDDCCAACACAC'\r\n",
    "\r\n",
    "#creating tree nodes\r\n",
    "class NodeTree(object):\r\n",
    "\r\n",
    "  def __init__(self, left = None, right = None):\r\n",
    "    self.left = left\r\n",
    "    self.right = right\r\n",
    "\r\n",
    "  def children(self):\r\n",
    "    return (self.left, self.right)\r\n",
    "\r\n",
    "  def nodes(self):\r\n",
    "    return (self.left, self.right)\r\n",
    "\r\n",
    "  def __str__(self):\r\n",
    "    return '%s_%s' % (self.left, self.right)\r\n",
    "\r\n",
    " # Main fuction implementing huffman coding\r\n",
    "\r\n",
    "def huffman_code_tree(node, left = True, binString = ''):\r\n",
    "  if type(node) is str : \r\n",
    "    return {node : binString}\r\n",
    "  \r\n",
    "  (l, r) = node.children()\r\n",
    "  d = dict()\r\n",
    "  d.update(huffman_code_tree(l, True, binString + 0))\r\n",
    "  d.update(huffman_code_tree(l, True, binString + 1))\r\n",
    "  return d \r\n",
    "\r\n",
    "freq = {}\r\n",
    "for c in string:\r\n",
    "    if c in freq:\r\n",
    "        freq[c] += 1\r\n",
    "    else :\r\n",
    "        freq[c] = 1\r\n",
    "\r\n",
    "freq = sorted(freq.items(), key = lambda x: x[1], reverse = True)\r\n",
    "\r\n",
    "nodes = freq\r\n",
    "\r\n",
    "while len(nodes) > 1:\r\n",
    "    (key1, c1) = nodes[-1]\r\n",
    "    (key2, c2) = nodes[-2]\r\n",
    "    nodes = nodes[: -2]\r\n",
    "    node = NodeTree(key1, key2)\r\n",
    "    nodes.append((nodes, c1 + c2))\r\n",
    "  \r\n",
    "    nodes = sorted(nodes, key = lambda x: x[1], reverse = True)\r\n",
    "  \r\n",
    "huffmanCode = huffman_code_tree(nodes[0][0])\r\n",
    "\r\n",
    "print('Char | Huffman Code')\r\n",
    "print(' --------------------- ')\r\n",
    "for (char, frequency) in freq :\r\n",
    "    print(' %-4r |%12s' % (char, huffmanCode[char]))\r\n"
   ],
   "outputs": [
    {
     "output_type": "error",
     "ename": "AttributeError",
     "evalue": "'list' object has no attribute 'children'",
     "traceback": [
      "\u001b[1;31m---------------------------------------------------------------------------\u001b[0m",
      "\u001b[1;31mAttributeError\u001b[0m                            Traceback (most recent call last)",
      "\u001b[1;32m~\\AppData\\Local\\Temp/ipykernel_18680/1757909688.py\u001b[0m in \u001b[0;36m<module>\u001b[1;34m\u001b[0m\n\u001b[0;32m     49\u001b[0m     \u001b[0mnodes\u001b[0m \u001b[1;33m=\u001b[0m \u001b[0msorted\u001b[0m\u001b[1;33m(\u001b[0m\u001b[0mnodes\u001b[0m\u001b[1;33m,\u001b[0m \u001b[0mkey\u001b[0m \u001b[1;33m=\u001b[0m \u001b[1;32mlambda\u001b[0m \u001b[0mx\u001b[0m\u001b[1;33m:\u001b[0m \u001b[0mx\u001b[0m\u001b[1;33m[\u001b[0m\u001b[1;36m1\u001b[0m\u001b[1;33m]\u001b[0m\u001b[1;33m,\u001b[0m \u001b[0mreverse\u001b[0m \u001b[1;33m=\u001b[0m \u001b[1;32mTrue\u001b[0m\u001b[1;33m)\u001b[0m\u001b[1;33m\u001b[0m\u001b[1;33m\u001b[0m\u001b[0m\n\u001b[0;32m     50\u001b[0m \u001b[1;33m\u001b[0m\u001b[0m\n\u001b[1;32m---> 51\u001b[1;33m \u001b[0mhuffmanCode\u001b[0m \u001b[1;33m=\u001b[0m \u001b[0mhuffman_code_tree\u001b[0m\u001b[1;33m(\u001b[0m\u001b[0mnodes\u001b[0m\u001b[1;33m[\u001b[0m\u001b[1;36m0\u001b[0m\u001b[1;33m]\u001b[0m\u001b[1;33m[\u001b[0m\u001b[1;36m0\u001b[0m\u001b[1;33m]\u001b[0m\u001b[1;33m)\u001b[0m\u001b[1;33m\u001b[0m\u001b[1;33m\u001b[0m\u001b[0m\n\u001b[0m\u001b[0;32m     52\u001b[0m \u001b[1;33m\u001b[0m\u001b[0m\n\u001b[0;32m     53\u001b[0m \u001b[0mprint\u001b[0m\u001b[1;33m(\u001b[0m\u001b[1;34m'Char | Huffman Code'\u001b[0m\u001b[1;33m)\u001b[0m\u001b[1;33m\u001b[0m\u001b[1;33m\u001b[0m\u001b[0m\n",
      "\u001b[1;32m~\\AppData\\Local\\Temp/ipykernel_18680/1757909688.py\u001b[0m in \u001b[0;36mhuffman_code_tree\u001b[1;34m(node, left, binString)\u001b[0m\n\u001b[0;32m     23\u001b[0m     \u001b[1;32mreturn\u001b[0m \u001b[1;33m{\u001b[0m\u001b[0mnode\u001b[0m \u001b[1;33m:\u001b[0m \u001b[0mbinString\u001b[0m\u001b[1;33m}\u001b[0m\u001b[1;33m\u001b[0m\u001b[1;33m\u001b[0m\u001b[0m\n\u001b[0;32m     24\u001b[0m \u001b[1;33m\u001b[0m\u001b[0m\n\u001b[1;32m---> 25\u001b[1;33m   \u001b[1;33m(\u001b[0m\u001b[0ml\u001b[0m\u001b[1;33m,\u001b[0m\u001b[0mr\u001b[0m\u001b[1;33m)\u001b[0m \u001b[1;33m=\u001b[0m \u001b[0mnode\u001b[0m\u001b[1;33m.\u001b[0m\u001b[0mchildren\u001b[0m\u001b[1;33m(\u001b[0m\u001b[1;33m)\u001b[0m\u001b[1;33m\u001b[0m\u001b[1;33m\u001b[0m\u001b[0m\n\u001b[0m\u001b[0;32m     26\u001b[0m   \u001b[0md\u001b[0m \u001b[1;33m=\u001b[0m \u001b[0mdict\u001b[0m\u001b[1;33m(\u001b[0m\u001b[1;33m)\u001b[0m\u001b[1;33m\u001b[0m\u001b[1;33m\u001b[0m\u001b[0m\n\u001b[0;32m     27\u001b[0m   \u001b[0md\u001b[0m\u001b[1;33m.\u001b[0m\u001b[0mupdate\u001b[0m\u001b[1;33m(\u001b[0m\u001b[0mhuffman_code_tree\u001b[0m\u001b[1;33m(\u001b[0m\u001b[0ml\u001b[0m\u001b[1;33m,\u001b[0m \u001b[1;32mTrue\u001b[0m\u001b[1;33m,\u001b[0m \u001b[0mbinString\u001b[0m \u001b[1;33m+\u001b[0m \u001b[1;36m0\u001b[0m\u001b[1;33m)\u001b[0m\u001b[1;33m)\u001b[0m\u001b[1;33m\u001b[0m\u001b[1;33m\u001b[0m\u001b[0m\n",
      "\u001b[1;31mAttributeError\u001b[0m: 'list' object has no attribute 'children'"
     ]
    }
   ],
   "metadata": {}
  }
 ],
 "metadata": {
  "orig_nbformat": 4,
  "language_info": {
   "name": "python",
   "version": "3.9.7",
   "mimetype": "text/x-python",
   "codemirror_mode": {
    "name": "ipython",
    "version": 3
   },
   "pygments_lexer": "ipython3",
   "nbconvert_exporter": "python",
   "file_extension": ".py"
  },
  "kernelspec": {
   "name": "python3",
   "display_name": "Python 3.9.7 64-bit"
  },
  "interpreter": {
   "hash": "5f40cf400b5802b235cfca4ffe0c0633933aa60ea66207b49e485ab1582c7b90"
  }
 },
 "nbformat": 4,
 "nbformat_minor": 2
}