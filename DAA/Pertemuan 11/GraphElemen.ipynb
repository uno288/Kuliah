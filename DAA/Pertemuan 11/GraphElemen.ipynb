{
 "cells": [
  {
   "cell_type": "code",
   "execution_count": 1,
   "metadata": {},
   "outputs": [
    {
     "name": "stdout",
     "output_type": "stream",
     "text": [
      "{'a': ['b', 'c'], 'b': ['a', 'd'], 'c': ['a', 'd'], 'd': ['e'], 'e': ['d']}\n"
     ]
    }
   ],
   "source": [
    "# Create the directory with graph elements\n",
    "graph = {   \"a\" : [\"b\", \"c\"],\n",
    "            \"b\" : [\"a\", \"d\"],\n",
    "            \"c\" : [\"a\", \"d\"],\n",
    "            \"d\" : [\"e\"],\n",
    "            \"e\" : [\"d\"]\n",
    "}\n",
    "\n",
    "# Print the Graph \n",
    "print(graph)"
   ]
  },
  {
   "cell_type": "code",
   "execution_count": 2,
   "metadata": {},
   "outputs": [
    {
     "name": "stdout",
     "output_type": "stream",
     "text": [
      "{'T': ['U', 'W'], 'U': ['T', 'V'], 'V': ['U', 'W'], 'W': ['T', 'Z', 'X'], 'X': ['V', 'S', 'W'], 'Z': ['W'], 'S': ['X']}\n"
     ]
    }
   ],
   "source": [
    "# Create the directory with graph elements\n",
    "graph = {   \"T\" : [\"U\", \"W\"],\n",
    "            \"U\" : [\"T\", \"V\"],\n",
    "            \"V\" : [\"U\", \"W\"],\n",
    "            \"W\" : [\"T\", \"Z\", \"X\"],\n",
    "            \"X\" : [\"V\", \"S\", \"W\"],\n",
    "            \"Z\" : [\"W\"],\n",
    "            \"S\" : [\"X\"]\n",
    "}\n",
    "\n",
    "# Print the Graph \n",
    "print(graph)"
   ]
  },
  {
   "cell_type": "code",
   "execution_count": 14,
   "metadata": {},
   "outputs": [
    {
     "name": "stdout",
     "output_type": "stream",
     "text": [
      "{'R': ['O', 'L'], 'O': ['R', 'M', 'P'], 'M': ['O', 'N'], 'L': ['R', 'P'], 'P': ['L', 'N', 'O'], 'N': ['P', 'L']}\n"
     ]
    }
   ],
   "source": [
    "# Create the directory with graph elements\n",
    "graph = {   \"R\" : [\"O\", \"L\"],\n",
    "            \"O\" : [\"R\", \"M\", \"P\"],\n",
    "            \"M\" : [\"O\", \"N\"],\n",
    "            \"L\" : [\"R\", \"P\"],\n",
    "            \"P\" : [\"L\", \"N\", \"O\"],\n",
    "            \"N\" : [\"P\", \"L\"]\n",
    "}\n",
    "\n",
    "# Print the Graph \n",
    "print(graph)"
   ]
  },
  {
   "cell_type": "code",
   "execution_count": 5,
   "metadata": {},
   "outputs": [
    {
     "name": "stdout",
     "output_type": "stream",
     "text": [
      "['a', 'b', 'c', 'd', 'e']\n"
     ]
    }
   ],
   "source": [
    "class graph:\n",
    "    def __init__(self, gdict = None):\n",
    "        if gdict is None:\n",
    "            gdict = []\n",
    "        self.gdict = gdict\n",
    "\n",
    "# Get the Keys of the directory\n",
    "    def getVertices(self):\n",
    "        return list(self.gdict.keys())\n",
    "\n",
    "graph_elements = {  \"a\" : [\"b\", \"c\"],\n",
    "                    \"b\" : [\"a\", \"d\"],\n",
    "                    \"c\" : [\"a\", \"d\"],\n",
    "                    \"d\" : [\"e\"],\n",
    "                    \"e\" : [\"d\"]\n",
    "                }\n",
    "\n",
    "g = graph(graph_elements)\n",
    "print(g.getVertices())"
   ]
  },
  {
   "cell_type": "code",
   "execution_count": 20,
   "metadata": {},
   "outputs": [
    {
     "name": "stdout",
     "output_type": "stream",
     "text": [
      "['T', 'U', 'V', 'W', 'X', 'Z', 'S']\n"
     ]
    }
   ],
   "source": [
    "class graph:\n",
    "    def __init__(self, gdict = None):\n",
    "        if gdict is None:\n",
    "            gdict = []\n",
    "        self.gdict = gdict\n",
    "\n",
    "# Get the Keys of the directory\n",
    "    def getVertices(self):\n",
    "        return list(self.gdict.keys())\n",
    "\n",
    "graph_elements = {  \"T\" : [\"U\", \"W\"],\n",
    "                    \"U\" : [\"T\", \"V\"],\n",
    "                    \"V\" : [\"U\", \"W\"],\n",
    "                    \"W\" : [\"T\", \"Z\", \"X\"],\n",
    "                    \"X\" : [\"V\", \"S\", \"W\"],\n",
    "                    \"Z\" : [\"W\"],\n",
    "                    \"S\" : [\"X\"]\n",
    "                }\n",
    "\n",
    "g = graph(graph_elements)\n",
    "print(g.getVertices())"
   ]
  },
  {
   "cell_type": "code",
   "execution_count": 23,
   "metadata": {},
   "outputs": [
    {
     "name": "stdout",
     "output_type": "stream",
     "text": [
      "['R', 'O', 'M', 'L', 'P', 'N']\n"
     ]
    }
   ],
   "source": [
    "class graph:\n",
    "    def __init__(self, gdict = None):\n",
    "        if gdict is None:\n",
    "            gdict = []\n",
    "        self.gdict = gdict\n",
    "\n",
    "# Get the Keys of the directory\n",
    "    def getVertices(self):\n",
    "        return list(self.gdict.keys())\n",
    "\n",
    "graph_elements = {  \"R\" : [\"O\", \"L\"],\n",
    "                    \"O\" : [\"R\", \"M\", \"P\"],\n",
    "                    \"M\" : [\"O\", \"N\"],\n",
    "                    \"L\" : [\"R\", \"P\"],\n",
    "                    \"P\" : [\"L\", \"N\", \"O\"],\n",
    "                    \"N\" : [\"M\", \"L\"]\n",
    "                }\n",
    "\n",
    "g = graph(graph_elements)\n",
    "print(g.getVertices())"
   ]
  },
  {
   "cell_type": "code",
   "execution_count": 24,
   "metadata": {},
   "outputs": [
    {
     "name": "stdout",
     "output_type": "stream",
     "text": [
      "[{'b', 'a'}, {'c', 'a'}, {'b', 'd'}, {'d', 'c'}, {'d', 'e'}]\n"
     ]
    }
   ],
   "source": [
    "class graph:\n",
    "    def __init__(self, gdict = None):\n",
    "        if gdict is None:\n",
    "            gdict = {}\n",
    "        self.gdict = gdict\n",
    "    \n",
    "    def edges(self):\n",
    "        return self.findedges()\n",
    "\n",
    "    def findedges(self):\n",
    "        edgename = []\n",
    "        for vrtx in self.gdict:\n",
    "            for nxtvrtx in self.gdict[vrtx]:\n",
    "                if {nxtvrtx, vrtx} not in edgename:\n",
    "                    edgename.append({vrtx, nxtvrtx})\n",
    "        return edgename\n",
    "\n",
    "graph_elements = {  \"a\" : [\"b\", \"c\"],\n",
    "                    \"b\" : [\"a\", \"d\"],\n",
    "                    \"c\" : [\"a\", \"d\"],\n",
    "                    \"d\" : [\"e\"],\n",
    "                    \"e\" : [\"d\"]\n",
    "                }\n",
    "\n",
    "g = graph(graph_elements)\n",
    "print(g.edges())\n",
    "    "
   ]
  },
  {
   "cell_type": "code",
   "execution_count": 27,
   "metadata": {},
   "outputs": [
    {
     "name": "stdout",
     "output_type": "stream",
     "text": [
      "[{'T', 'U'}, {'W', 'T'}, {'V', 'U'}, {'W', 'V'}, {'W', 'Z'}, {'W', 'X'}, {'V', 'X'}, {'S', 'X'}]\n"
     ]
    }
   ],
   "source": [
    "class graph:\n",
    "    def __init__(self, gdict = None):\n",
    "        if gdict is None:\n",
    "            gdict = {}\n",
    "        self.gdict = gdict\n",
    "    \n",
    "    def edges(self):\n",
    "        return self.findedges()\n",
    "\n",
    "    def findedges(self):\n",
    "        edgename = []\n",
    "        for vrtx in self.gdict:\n",
    "            for nxtvrtx in self.gdict[vrtx]:\n",
    "                if {nxtvrtx, vrtx} not in edgename:\n",
    "                    edgename.append({vrtx, nxtvrtx})\n",
    "        return edgename\n",
    "\n",
    "graph_elements = {  \"T\" : [\"U\", \"W\"],\n",
    "                    \"U\" : [\"T\", \"V\"],\n",
    "                    \"V\" : [\"U\", \"W\"],\n",
    "                    \"W\" : [\"T\", \"Z\", \"X\"],\n",
    "                    \"X\" : [\"V\", \"S\", \"W\"],\n",
    "                    \"Z\" : [\"W\"],\n",
    "                    \"S\" : [\"X\"]\n",
    "                }\n",
    "\n",
    "g = graph(graph_elements)\n",
    "print(g.edges())"
   ]
  },
  {
   "cell_type": "code",
   "execution_count": 28,
   "metadata": {},
   "outputs": [
    {
     "name": "stdout",
     "output_type": "stream",
     "text": [
      "[{'R', 'O'}, {'L', 'R'}, {'O', 'M'}, {'P', 'O'}, {'N', 'M'}, {'L', 'P'}, {'N', 'P'}, {'N', 'L'}]\n"
     ]
    }
   ],
   "source": [
    "class graph:\n",
    "    def __init__(self, gdict = None):\n",
    "        if gdict is None:\n",
    "            gdict = {}\n",
    "        self.gdict = gdict\n",
    "    \n",
    "    def edges(self):\n",
    "        return self.findedges()\n",
    "\n",
    "    def findedges(self):\n",
    "        edgename = []\n",
    "        for vrtx in self.gdict:\n",
    "            for nxtvrtx in self.gdict[vrtx]:\n",
    "                if {nxtvrtx, vrtx} not in edgename:\n",
    "                    edgename.append({vrtx, nxtvrtx})\n",
    "        return edgename\n",
    "\n",
    "graph_elements = {  \"R\" : [\"O\", \"L\"],\n",
    "                    \"O\" : [\"R\", \"M\", \"P\"],\n",
    "                    \"M\" : [\"O\", \"N\"],\n",
    "                    \"L\" : [\"R\", \"P\"],\n",
    "                    \"P\" : [\"L\", \"N\", \"O\"],\n",
    "                    \"N\" : [\"M\", \"L\"]\n",
    "                }\n",
    "\n",
    "g = graph(graph_elements)\n",
    "print(g.edges())"
   ]
  },
  {
   "cell_type": "code",
   "execution_count": 26,
   "metadata": {},
   "outputs": [
    {
     "name": "stdout",
     "output_type": "stream",
     "text": [
      "['a', 'b', 'c', 'd', 'e', 'f']\n"
     ]
    }
   ],
   "source": [
    "class graph:\n",
    "    def __init__(self, gdict = None):\n",
    "        if gdict is None:\n",
    "            gdict = []\n",
    "        self.gdict = gdict\n",
    "\n",
    "# Get the Keys of the directory\n",
    "    def getVertices(self):\n",
    "        return list(self.gdict.keys())\n",
    "\n",
    "# Add the vertex as a key\n",
    "    def addVertex(self, vrtx):\n",
    "        if vrtx not in self.gdict:\n",
    "            self.gdict[vrtx] = []\n",
    "\n",
    "graph_elements = {  \"a\" : [\"b\", \"c\"],\n",
    "                    \"b\" : [\"a\", \"d\"],\n",
    "                    \"c\" : [\"a\", \"d\"],\n",
    "                    \"d\" : [\"e\"],\n",
    "                    \"e\" : [\"d\"]\n",
    "                }\n",
    "\n",
    "g = graph(graph_elements)\n",
    "g.addVertex(\"f\")\n",
    "print(g.getVertices())"
   ]
  },
  {
   "cell_type": "code",
   "execution_count": 29,
   "metadata": {},
   "outputs": [
    {
     "name": "stdout",
     "output_type": "stream",
     "text": [
      "['R', 'O', 'M', 'L', 'P', 'N', 'H']\n"
     ]
    }
   ],
   "source": [
    "class graph:\n",
    "    def __init__(self, gdict = None):\n",
    "        if gdict is None:\n",
    "            gdict = []\n",
    "        self.gdict = gdict\n",
    "\n",
    "# Get the Keys of the directory\n",
    "    def getVertices(self):\n",
    "        return list(self.gdict.keys())\n",
    "\n",
    "# Add the vertex as a key\n",
    "    def addVertex(self, vrtx):\n",
    "        if vrtx not in self.gdict:\n",
    "            self.gdict[vrtx] = []\n",
    "\n",
    "graph_elements = {  \"R\" : [\"O\", \"L\"],\n",
    "                    \"O\" : [\"R\", \"M\", \"P\"],\n",
    "                    \"M\" : [\"O\", \"N\"],\n",
    "                    \"L\" : [\"R\", \"P\"],\n",
    "                    \"P\" : [\"L\", \"N\", \"O\"],\n",
    "                    \"N\" : [\"M\", \"L\"]\n",
    "                }\n",
    "\n",
    "g = graph(graph_elements)\n",
    "g.addVertex(\"H\")\n",
    "print(g.getVertices())"
   ]
  },
  {
   "cell_type": "code",
   "execution_count": 40,
   "metadata": {},
   "outputs": [],
   "source": [
    "class graph:\n",
    "    def __init__(self, gdict = None):\n",
    "        if gdict is None:\n",
    "            gdict = {}\n",
    "        self.gdict = gdict\n",
    "    \n",
    "    def edges(self):\n",
    "        return self.findedges()\n",
    "\n",
    "# Add the new edge\n",
    "    def AddEdge(self, edge):\n",
    "        edge = set(edge)\n",
    "        (vrtx1, vrtx2) = tuple(edge)\n",
    "        if vrtx1 in self.gdict:\n",
    "            self.gdict[vrtx1].append(vrtx2)\n",
    "        else :\n",
    "            self.gdict[vrtx1] = [vrtx2]\n",
    "\n",
    "# List the edge names\n",
    "    def findedges(self):\n",
    "        edgename = []\n",
    "        for vrtx in self.gdict:\n",
    "            for nxtvrtx in self.gdict[vrtx]:\n",
    "                if {nxtvrtx, vrtx} not in edgename:\n",
    "                    edgename.append({vrtx, nxtvrtx})\n",
    "        return edgename"
   ]
  },
  {
   "cell_type": "code",
   "execution_count": 42,
   "metadata": {},
   "outputs": [
    {
     "name": "stdout",
     "output_type": "stream",
     "text": [
      "[{'b', 'a'}, {'c', 'a'}, {'a', 'e'}, {'b', 'd'}, {'d', 'c'}, {'d', 'e'}]\n"
     ]
    }
   ],
   "source": [
    "graph_elements = {  \"a\" : [\"b\", \"c\"],\n",
    "                    \"b\" : [\"a\", \"d\"],\n",
    "                    \"c\" : [\"a\", \"d\"],\n",
    "                    \"d\" : [\"e\"],\n",
    "                    \"e\" : [\"d\"]\n",
    "                }\n",
    "g = graph(graph_elements)\n",
    "g.AddEdge({'a', 'e'})\n",
    "g.AddEdge({'a', 'c'})\n",
    "print(g.edges())"
   ]
  }
 ],
 "metadata": {
  "interpreter": {
   "hash": "5f40cf400b5802b235cfca4ffe0c0633933aa60ea66207b49e485ab1582c7b90"
  },
  "kernelspec": {
   "display_name": "Python 3.9.7 64-bit",
   "name": "python3"
  },
  "language_info": {
   "codemirror_mode": {
    "name": "ipython",
    "version": 3
   },
   "file_extension": ".py",
   "mimetype": "text/x-python",
   "name": "python",
   "nbconvert_exporter": "python",
   "pygments_lexer": "ipython3",
   "version": "3.9.7"
  },
  "orig_nbformat": 4
 },
 "nbformat": 4,
 "nbformat_minor": 2
}
