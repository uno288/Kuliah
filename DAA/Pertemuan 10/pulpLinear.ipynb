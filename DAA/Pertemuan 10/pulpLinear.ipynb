{
 "cells": [
  {
   "cell_type": "code",
   "execution_count": 2,
   "metadata": {},
   "outputs": [],
   "source": [
    "import pulp"
   ]
  },
  {
   "cell_type": "code",
   "execution_count": 3,
   "metadata": {},
   "outputs": [],
   "source": [
    "# instantiate our problem class \n",
    "model = pulp.LpProblem(\"ProfitMaximissingProblem\", pulp.LpMaximize)"
   ]
  },
  {
   "cell_type": "code",
   "execution_count": 4,
   "metadata": {},
   "outputs": [],
   "source": [
    "A = pulp.LpVariable('A', lowBound = 0, cat = 'Integer')\n",
    "B = pulp.LpVariable('B', lowBound = 0, cat = 'Integer')"
   ]
  },
  {
   "cell_type": "code",
   "execution_count": 5,
   "metadata": {},
   "outputs": [],
   "source": [
    "# Objective function\n",
    "model += 5000 * A + 2500 * B, \"Profit\"\n",
    "# Constraints\n",
    "model += 3 * A + 2 * B <= 20\n",
    "model += 4 * A + 3 * B <= 20\n",
    "model += 4 * A + 3 * B <= 20"
   ]
  },
  {
   "cell_type": "code",
   "execution_count": 6,
   "metadata": {},
   "outputs": [
    {
     "data": {
      "text/plain": [
       "'Optimal'"
      ]
     },
     "execution_count": 6,
     "metadata": {},
     "output_type": "execute_result"
    }
   ],
   "source": [
    "# Solve our Problem\n",
    "model.solve()\n",
    "pulp.LpStatus[model.status]"
   ]
  },
  {
   "cell_type": "code",
   "execution_count": 7,
   "metadata": {},
   "outputs": [
    {
     "name": "stdout",
     "output_type": "stream",
     "text": [
      "5.0\n",
      "0.0\n"
     ]
    }
   ],
   "source": [
    "# Print our decision variable values\n",
    "print(A.varValue)\n",
    "print(B.varValue)"
   ]
  },
  {
   "cell_type": "code",
   "execution_count": 8,
   "metadata": {},
   "outputs": [
    {
     "name": "stdout",
     "output_type": "stream",
     "text": [
      "25000.0\n"
     ]
    }
   ],
   "source": [
    "# Print our objective fuction value\n",
    "print (pulp.value(model.objective))"
   ]
  },
  {
   "cell_type": "code",
   "execution_count": 9,
   "metadata": {},
   "outputs": [],
   "source": [
    "# Import required Libraries\n",
    "import numpy as np\n",
    "from scipy.optimize import linprog"
   ]
  },
  {
   "cell_type": "code",
   "execution_count": 10,
   "metadata": {},
   "outputs": [],
   "source": [
    "# Set the inequality constraints matrix\n",
    "# Note : the inequality constraints must be in the form of <=\n",
    "A = np.array([[1,0],[2,3],[1,1],[-1,0],[0,-1]])\n",
    "\n",
    "#Set the inequality constraints vector\n",
    "b = np.array([16,19,8,0,0])"
   ]
  },
  {
   "cell_type": "code",
   "execution_count": 11,
   "metadata": {},
   "outputs": [],
   "source": [
    "# Set the coefficients of the linear objective fuction vector\n",
    "# Note : when maximizing, change the signs of the c vector coefficient\n",
    "c = np.array([-5,-7])"
   ]
  },
  {
   "cell_type": "code",
   "execution_count": 13,
   "metadata": {},
   "outputs": [],
   "source": [
    "# Solve linear programming problem\n",
    "res = linprog(c, A_ub = A, b_ub = b)"
   ]
  },
  {
   "cell_type": "code",
   "execution_count": 15,
   "metadata": {},
   "outputs": [
    {
     "name": "stdout",
     "output_type": "stream",
     "text": [
      "Optimal Value:  46.0 \n",
      "x values :  [5. 3.] \n",
      "Number of iterations performed :  5 \n",
      "Status :  Optimization terminated successfully.\n"
     ]
    }
   ],
   "source": [
    "# Print Hasil\n",
    "print('Optimal Value: ', round(res.fun*-1, ndigits=2),\n",
    "      '\\nx values : ', res.x,\n",
    "      '\\nNumber of iterations performed : ', res.nit,\n",
    "      '\\nStatus : ', res.message)"
   ]
  },
  {
   "cell_type": "code",
   "execution_count": 16,
   "metadata": {},
   "outputs": [
    {
     "name": "stdout",
     "output_type": "stream",
     "text": [
      "Optimal Value:  16.0 \n",
      "x values :  [11.28137677  4.71862323] \n",
      "Number of iterations performed :  5 \n",
      "Status :  Optimization terminated successfully.\n"
     ]
    }
   ],
   "source": [
    "# Persamaan :\n",
    "# Lisa = 3/jam\n",
    "# Muri = 4/jam\n",
    "# Total kerja = 16 jam\n",
    "# Total tas = 55\n",
    "A = np.array([[1,1], [3, 4], [-1, 0], [0, -1]])\n",
    "b = np.array([16, 55, 0, 0])\n",
    "c = np.array([-1, -1])\n",
    "res = linprog(c, A_ub=A, b_ub=b)\n",
    "\n",
    "# Print Hasil\n",
    "print('Optimal Value: ', round(res.fun*-1, ndigits=2),\n",
    "      '\\nx values : ', res.x,\n",
    "      '\\nNumber of iterations performed : ', res.nit,\n",
    "      '\\nStatus : ', res.message)"
   ]
  },
  {
   "cell_type": "code",
   "execution_count": 17,
   "metadata": {},
   "outputs": [
    {
     "name": "stdout",
     "output_type": "stream",
     "text": [
      "6.0\n",
      "1.0\n",
      "32500.0\n"
     ]
    }
   ],
   "source": [
    "#Instantiate our problem class\n",
    "model = pulp.LpProblem(\"ProfitMaximisingProblem\", pulp.LpMaximize)\n",
    "A = pulp.LpVariable('A', lowBound=0, cat='Integer')\n",
    "B = pulp.LpVariable('B', lowBound=0, cat='Integer')\n",
    "\n",
    "# Objective Function\n",
    "model += 5000 * A + 2500 * B, \"Profit\"\n",
    "# Constraints\n",
    "model += 3 * A + 2 * B <= 20\n",
    "model += 4 * A + 3 * B <= 30\n",
    "model += 4 * A + 3 * B <= 44\n",
    "\n",
    "# Solve our problem\n",
    "model.solve()\n",
    "pulp.LpStatus[model.status]\n",
    "\n",
    "# Print our decision variable values\n",
    "print(A.varValue)\n",
    "print(B.varValue)\n",
    "\n",
    "# Print our objective function value\n",
    "print(pulp.value(model.objective))"
   ]
  },
  {
   "cell_type": "code",
   "execution_count": 18,
   "metadata": {},
   "outputs": [
    {
     "name": "stdout",
     "output_type": "stream",
     "text": [
      "Optimal Value:  46.0 \n",
      "x values :  [5. 3.] \n",
      "Number of iterations performed :  5 \n",
      "Status :  Optimization terminated successfully.\n"
     ]
    }
   ],
   "source": [
    "# Menyusun array A berdasarkan koefisien 1 dan 2 nya pada pertidaksamaan constraints\n",
    "# Set the inequality constraints matrix\n",
    "# Note: the inequality constraints must be in the form of <=\n",
    "A = np.array([[1, 0], [2, 3], [1, 1], [-1, 0], [0, -1]])\n",
    "\n",
    "# Susun array b berdasarkan pertidaksamaan vektor constraints\n",
    "# Set the inequality constraints vector\n",
    "b = np.array([16, 19, 8, 0, 0])\n",
    "\n",
    "# Array c merupakan koefisien vektor. Ketika maximizing, ubah tanda koefisien (bila positif menjadi negatif)\n",
    "# set the coefficients of the linear objective function vector\n",
    "# Note : when maximizing, change the signs of the c vector coefficient\n",
    "c = np.array([-5, -7])\n",
    "\n",
    "# Solve linear programming problem\n",
    "res = linprog(c, A_ub=A, b_ub=b)\n",
    "\n",
    "# Print Hasil\n",
    "print('Optimal Value: ', round(res.fun*-1, ndigits=2),\n",
    "      '\\nx values : ', res.x,\n",
    "      '\\nNumber of iterations performed : ', res.nit,\n",
    "      '\\nStatus : ', res.message)\n"
   ]
  }
 ],
 "metadata": {
  "interpreter": {
   "hash": "5f40cf400b5802b235cfca4ffe0c0633933aa60ea66207b49e485ab1582c7b90"
  },
  "kernelspec": {
   "display_name": "Python 3.9.7 64-bit",
   "name": "python3"
  },
  "language_info": {
   "codemirror_mode": {
    "name": "ipython",
    "version": 3
   },
   "file_extension": ".py",
   "mimetype": "text/x-python",
   "name": "python",
   "nbconvert_exporter": "python",
   "pygments_lexer": "ipython3",
   "version": "3.9.7"
  },
  "orig_nbformat": 4
 },
 "nbformat": 4,
 "nbformat_minor": 2
}
